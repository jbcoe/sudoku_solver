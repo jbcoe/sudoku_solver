{
 "metadata": {
  "language_info": {
   "codemirror_mode": {
    "name": "ipython",
    "version": 3
   },
   "file_extension": ".py",
   "mimetype": "text/x-python",
   "name": "python",
   "nbconvert_exporter": "python",
   "pygments_lexer": "ipython3",
   "version": "3.7.7-final"
  },
  "orig_nbformat": 2,
  "kernelspec": {
   "name": "python3",
   "display_name": "Python 3"
  }
 },
 "nbformat": 4,
 "nbformat_minor": 2,
 "cells": [
  {
   "cell_type": "code",
   "execution_count": 1,
   "metadata": {},
   "outputs": [],
   "source": [
    "from sudoku import Sudoku, solve\n",
    "from typing import *\n",
    "import numpy as np"
   ]
  },
  {
   "cell_type": "code",
   "execution_count": 2,
   "metadata": {},
   "outputs": [],
   "source": [
    "s = Sudoku()\n",
    "s.set(Sudoku.COMPLETED_GRID)\n",
    "\n",
    "for entry in [1,2,3]:\n",
    "    for row in range(9):\n",
    "        for column in range(9):\n",
    "            if s[row,column] == entry:\n",
    "                s[row,column] = 0\n",
    "\n",
    "for row in range(3):\n",
    "    for column in range(3):\n",
    "        s[row,column] = 0\n",
    "\n",
    "for row in range(3):\n",
    "    for column in range(3):\n",
    "        s[row,column+3] = 0\n",
    "\n",
    "for row in range(3):\n",
    "    for column in range(3):\n",
    "        s[row+3,column] = 0\n",
    "\n",
    "for row in range(3):\n",
    "    for column in range(3):\n",
    "        s[row+6,column] = 0\n",
    "\n",
    "for row in range(3):\n",
    "    for column in range(3):\n",
    "        s[row+6,column+6] = 0\n",
    "\n",
    "for row in range(3):\n",
    "    for column in range(3):\n",
    "        s[row+3,column+3] = 0\n",
    "\n",
    "for row in range(3):\n",
    "    for column in range(3):\n",
    "        s[row+3,column+6] = 0"
   ]
  },
  {
   "cell_type": "code",
   "execution_count": 3,
   "metadata": {},
   "outputs": [
    {
     "output_type": "execute_result",
     "data": {
      "text/plain": [
       "-------------\n",
       "|   |   |789|\n",
       "|   |   |   |\n",
       "|   |   |456|\n",
       "-------------\n",
       "|   |   |   |\n",
       "|   |   |   |\n",
       "|   |   |   |\n",
       "-------------\n",
       "|   |678|   |\n",
       "|   |9  |   |\n",
       "|   | 45|   |\n",
       "-------------"
      ]
     },
     "metadata": {},
     "execution_count": 3
    }
   ],
   "source": [
    "s"
   ]
  },
  {
   "cell_type": "code",
   "execution_count": 4,
   "metadata": {},
   "outputs": [],
   "source": [
    "%%prun\n",
    "solution = solve(s, exhaustive=True)\n",
    "solution"
   ]
  },
  {
   "cell_type": "code",
   "execution_count": 8,
   "metadata": {},
   "outputs": [
    {
     "output_type": "execute_result",
     "data": {
      "text/plain": [
       "-------------\n",
       "|123|456|789|\n",
       "|456|789|123|\n",
       "|789|123|456|\n",
       "-------------\n",
       "|564|231|897|\n",
       "|897|564|231|\n",
       "|231|897|564|\n",
       "-------------\n",
       "|312|678|945|\n",
       "|645|912|378|\n",
       "|978|345|612|\n",
       "-------------"
      ]
     },
     "metadata": {},
     "execution_count": 8
    }
   ],
   "source": [
    "solution"
   ]
  },
  {
   "cell_type": "code",
   "execution_count": 6,
   "metadata": {},
   "outputs": [
    {
     "output_type": "execute_result",
     "data": {
      "text/plain": [
       "True"
      ]
     },
     "metadata": {},
     "execution_count": 6
    }
   ],
   "source": [
    "solution.completed"
   ]
  },
  {
   "cell_type": "code",
   "execution_count": 7,
   "metadata": {},
   "outputs": [
    {
     "output_type": "execute_result",
     "data": {
      "text/plain": [
       "-------------\n",
       "|123|456|789|\n",
       "|456|789|123|\n",
       "|789|123|456|\n",
       "-------------\n",
       "|564|231|897|\n",
       "|897|564|231|\n",
       "|231|897|564|\n",
       "-------------\n",
       "|312|678|945|\n",
       "|645|912|378|\n",
       "|978|345|612|\n",
       "-------------"
      ]
     },
     "metadata": {},
     "execution_count": 7
    }
   ],
   "source": [
    "solution"
   ]
  },
  {
   "cell_type": "code",
   "execution_count": null,
   "metadata": {},
   "outputs": [],
   "source": []
  }
 ]
}